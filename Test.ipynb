{
 "cells": [
  {
   "attachments": {},
   "cell_type": "markdown",
   "metadata": {},
   "source": [
    "## Testing the New Models"
   ]
  },
  {
   "attachments": {},
   "cell_type": "markdown",
   "metadata": {},
   "source": [
    "### Meyer Dataset"
   ]
  },
  {
   "attachments": {},
   "cell_type": "markdown",
   "metadata": {},
   "source": [
    "#### Reconstruction Property"
   ]
  },
  {
   "attachments": {},
   "cell_type": "markdown",
   "metadata": {},
   "source": [
    "Imports"
   ]
  },
  {
   "cell_type": "code",
   "execution_count": 1,
   "metadata": {},
   "outputs": [],
   "source": [
    "import torch\n",
    "import numpy as np\n",
    "import matplotlib.pyplot as plt"
   ]
  },
  {
   "attachments": {},
   "cell_type": "markdown",
   "metadata": {},
   "source": [
    "Data"
   ]
  },
  {
   "cell_type": "code",
   "execution_count": 2,
   "metadata": {},
   "outputs": [],
   "source": [
    "data=np.load('data/dataset_meyer/dataset_meyer_test_256_100.npz')\n",
    "n=data['density']\n",
    "f=data['F']\n",
    "e=data['energy']\n",
    "n_torch=torch.from_numpy(n)[-100:]\n",
    "f_torch=torch.from_numpy(f)[-100:]\n",
    "e_torch=torch.from_numpy(e)[-100:]\n",
    "model=torch.load('model_dft_pytorch/meyer_case_2ndGEN/DFTVAEnorm2ndGEN_hidden_channels_vae_[60, 60, 60, 60, 60]_hidden_neurons_dft_[60, 60, 60, 60, 60]_kernel_size_13_pooling_size_2_latent_dimension_8_l1_0.5_l2_0.001',map_location='cpu')\n",
    "#model=torch.load('model_dft_pytorch/meyer_case/meyer_model_60_hc_13_ks_2_ps_[40, 40, 40, 40, 40]_hidden_neurons_16_ls_0.0_alpha_0.01_vb',map_location='cpu')\n",
    "model.eval()\n",
    "model=model.double()\n"
   ]
  },
  {
   "attachments": {},
   "cell_type": "markdown",
   "metadata": {},
   "source": [
    "Reconstruction Test"
   ]
  },
  {
   "cell_type": "code",
   "execution_count": 3,
   "metadata": {},
   "outputs": [
    {
     "name": "stdout",
     "output_type": "stream",
     "text": [
      "torch.Size([100, 1, 256])\n",
      "0.0012555295432945248\n"
     ]
    }
   ],
   "source": [
    "n_torch = n_torch.unsqueeze(1)\n",
    "latent_mu, latent_logvar = model.Encoder(n_torch)\n",
    "n_recon = model.Decoder(latent_mu)\n",
    "dx=1/256\n",
    "print(n_recon.shape)\n",
    "dn=torch.sum(torch.abs(n_torch.squeeze(1)-n_recon.squeeze(1)),dim=-1)*dx\n",
    "dn=dn.mean()\n",
    "print(dn.item())"
   ]
  },
  {
   "attachments": {},
   "cell_type": "markdown",
   "metadata": {},
   "source": [
    "Visualization"
   ]
  },
  {
   "cell_type": "code",
   "execution_count": null,
   "metadata": {},
   "outputs": [],
   "source": [
    "n_recon_img=n_recon.squeeze(1).detach().cpu().numpy()\n",
    "n_img=n_torch.squeeze(1).detach().cpu().numpy()\n",
    "\n",
    "for i in range(3):\n",
    "    plt.plot(n_recon_img[i])\n",
    "    plt.plot(n_img[i])\n",
    "    plt.show()"
   ]
  },
  {
   "attachments": {},
   "cell_type": "markdown",
   "metadata": {},
   "source": [
    "Prediction Test (MODEL B)"
   ]
  },
  {
   "cell_type": "code",
   "execution_count": 4,
   "metadata": {},
   "outputs": [
    {
     "name": "stdout",
     "output_type": "stream",
     "text": [
      "torch.Size([100, 1, 256])\n",
      "tensor(0.1453, dtype=torch.float64, grad_fn=<MulBackward0>) tensor(0.1362, dtype=torch.float64, grad_fn=<MulBackward0>)\n"
     ]
    }
   ],
   "source": [
    "print(n_torch.shape)\n",
    "latent_mu, latent_logvar = model.Encoder(n_torch)\n",
    "f_ml=model.DFTModel(latent_mu).view(-1)\n",
    "\n",
    "df=torch.abs(f_torch-f_ml)/torch.abs(f_ml)\n",
    "\n",
    "print(df.mean()*627,df.std()*627)\n"
   ]
  },
  {
   "attachments": {},
   "cell_type": "markdown",
   "metadata": {},
   "source": [
    "Prediction Test (MODEL A)"
   ]
  },
  {
   "cell_type": "code",
   "execution_count": 13,
   "metadata": {},
   "outputs": [
    {
     "name": "stdout",
     "output_type": "stream",
     "text": [
      "tensor(0.1497, dtype=torch.float64) tensor(0.1421, dtype=torch.float64)\n"
     ]
    }
   ],
   "source": [
    "\n",
    "f_ml=model.DFTModel(n_torch).view(-1)\n",
    "\n",
    "df=torch.abs(f_torch-f_ml)/torch.abs(f_ml)\n",
    "\n",
    "print(df.mean()*627,df.std()*627)"
   ]
  }
 ],
 "metadata": {
  "kernelspec": {
   "display_name": "dft_env",
   "language": "python",
   "name": "python3"
  },
  "language_info": {
   "codemirror_mode": {
    "name": "ipython",
    "version": 3
   },
   "file_extension": ".py",
   "mimetype": "text/x-python",
   "name": "python",
   "nbconvert_exporter": "python",
   "pygments_lexer": "ipython3",
   "version": "3.9.7"
  },
  "orig_nbformat": 4
 },
 "nbformat": 4,
 "nbformat_minor": 2
}
