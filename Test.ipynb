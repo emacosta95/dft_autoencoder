{
 "cells": [
  {
   "attachments": {},
   "cell_type": "markdown",
   "metadata": {},
   "source": [
    "## Testing the New Models"
   ]
  },
  {
   "attachments": {},
   "cell_type": "markdown",
   "metadata": {},
   "source": [
    "### Meyer Dataset"
   ]
  },
  {
   "attachments": {},
   "cell_type": "markdown",
   "metadata": {},
   "source": [
    "#### Reconstruction Property"
   ]
  },
  {
   "attachments": {},
   "cell_type": "markdown",
   "metadata": {},
   "source": [
    "Imports"
   ]
  },
  {
   "cell_type": "code",
   "execution_count": 1,
   "metadata": {},
   "outputs": [],
   "source": [
    "import torch\n",
    "import numpy as np\n",
    "import matplotlib.pyplot as plt"
   ]
  },
  {
   "attachments": {},
   "cell_type": "markdown",
   "metadata": {},
   "source": [
    "Data"
   ]
  },
  {
   "cell_type": "code",
   "execution_count": 2,
   "metadata": {},
   "outputs": [],
   "source": [
    "data=np.load('data/dataset_meyer/dataset_meyer_test_256_100.npz')\n",
    "n=data['density']\n",
    "f=data['F']\n",
    "e=data['energy']\n",
    "n_torch=torch.from_numpy(n)[-100:]\n",
    "f_torch=torch.from_numpy(f)[-100:]\n",
    "e_torch=torch.from_numpy(e)[-100:]\n",
    "model=torch.load('model_dft_pytorch/meyer_case/DFTVAEnorm_hidden_channels_vae_[60, 60, 60, 60, 60]_hidden_channels_dft_[60, 60, 60, 60, 60]_kernel_size_13_pooling_size_2_latent_dimension_16_l1_0.0_l2_0.001',map_location='cpu')\n",
    "#model=torch.load('model_dft_pytorch/meyer_case/meyer_model_60_hc_13_ks_2_ps_[40, 40, 40, 40, 40]_hidden_neurons_16_ls_0.0_alpha_0.01_vb',map_location='cpu')\n",
    "model.eval()\n",
    "model=model.double()\n"
   ]
  },
  {
   "attachments": {},
   "cell_type": "markdown",
   "metadata": {},
   "source": [
    "Reconstruction Test"
   ]
  },
  {
   "cell_type": "code",
   "execution_count": 4,
   "metadata": {},
   "outputs": [
    {
     "name": "stdout",
     "output_type": "stream",
     "text": [
      "torch.Size([100, 1, 256])\n",
      "0.0013234195449086067\n"
     ]
    }
   ],
   "source": [
    "n_torch = n_torch.unsqueeze(1)\n",
    "latent_mu, latent_logvar = model.Encoder(n_torch)\n",
    "n_recon = model.Decoder(latent_mu)\n",
    "dx=1/256\n",
    "print(n_recon.shape)\n",
    "dn=torch.sum(torch.abs(n_torch.squeeze(1)-n_recon.squeeze(1)),dim=-1)*dx\n",
    "dn=dn.mean()\n",
    "print(dn.item())"
   ]
  },
  {
   "attachments": {},
   "cell_type": "markdown",
   "metadata": {},
   "source": [
    "Visualization"
   ]
  },
  {
   "cell_type": "code",
   "execution_count": null,
   "metadata": {},
   "outputs": [],
   "source": [
    "n_recon_img=n_recon.squeeze(1).detach().cpu().numpy()\n",
    "n_img=n_torch.squeeze(1).detach().cpu().numpy()\n",
    "\n",
    "for i in range(3):\n",
    "    plt.plot(n_recon_img[i])\n",
    "    plt.plot(n_img[i])\n",
    "    plt.show()"
   ]
  },
  {
   "attachments": {},
   "cell_type": "markdown",
   "metadata": {},
   "source": [
    "Prediction Test (MODEL B)"
   ]
  },
  {
   "cell_type": "code",
   "execution_count": null,
   "metadata": {},
   "outputs": [],
   "source": [
    "print(n_torch.shape)\n",
    "latent_mu, latent_logvar = model.Encoder(n_torch)\n",
    "f_ml=model.DFTModel(latent_mu).view(-1)\n",
    "\n",
    "df=torch.abs(f_torch-f_ml)\n",
    "\n",
    "print(df.mean()*627,df.std()*627)\n"
   ]
  },
  {
   "attachments": {},
   "cell_type": "markdown",
   "metadata": {},
   "source": [
    "Prediction Test (MODEL A)"
   ]
  },
  {
   "cell_type": "code",
   "execution_count": 5,
   "metadata": {},
   "outputs": [
    {
     "name": "stdout",
     "output_type": "stream",
     "text": [
      "tensor(0.7091, dtype=torch.float64) tensor(0.6309, dtype=torch.float64)\n"
     ]
    }
   ],
   "source": [
    "\n",
    "f_ml=model.DFTModel(n_torch).view(-1)\n",
    "\n",
    "df=torch.abs(f_torch-f_ml)\n",
    "\n",
    "print(df.mean()*627,df.std()*627)"
   ]
  },
  {
   "attachments": {},
   "cell_type": "markdown",
   "metadata": {},
   "source": [
    "### Speckle Dataset"
   ]
  },
  {
   "attachments": {},
   "cell_type": "markdown",
   "metadata": {},
   "source": [
    "#### Reconstruction Property"
   ]
  },
  {
   "attachments": {},
   "cell_type": "markdown",
   "metadata": {},
   "source": [
    "Imports"
   ]
  },
  {
   "cell_type": "code",
   "execution_count": 1,
   "metadata": {},
   "outputs": [],
   "source": [
    "import torch\n",
    "import numpy as np\n",
    "import matplotlib.pyplot as plt"
   ]
  },
  {
   "attachments": {},
   "cell_type": "markdown",
   "metadata": {},
   "source": [
    "Data"
   ]
  },
  {
   "cell_type": "code",
   "execution_count": null,
   "metadata": {},
   "outputs": [],
   "source": [
    "data=np.load('data/final_dataset/data_test.npz')\n",
    "n=data['density']\n",
    "f=data['F']\n",
    "e=data['energy']\n",
    "n_torch=torch.from_numpy(n)[-100:]\n",
    "f_torch=torch.from_numpy(f)[-100:]\n",
    "e_torch=torch.from_numpy(e)[-100:]\n",
    "model=torch.load('model_dft_pytorch/speckle_case/DFTVAEnorm_hidden_channels_vae_[60, 60, 60, 60, 60]_hidden_channels_dft_[60, 60, 60, 60, 60]_kernel_size_13_pooling_size_2_latent_dimension_16_l1_0.0_l2_0.001',map_location='cpu')\n",
    "#model=torch.load('model_dft_pytorch/meyer_case/meyer_model_60_hc_13_ks_2_ps_[40, 40, 40, 40, 40]_hidden_neurons_16_ls_0.0_alpha_0.01_vb',map_location='cpu')\n",
    "model.eval()\n",
    "model=model.double()\n"
   ]
  },
  {
   "attachments": {},
   "cell_type": "markdown",
   "metadata": {},
   "source": [
    "Reconstruction Test"
   ]
  },
  {
   "cell_type": "code",
   "execution_count": 4,
   "metadata": {},
   "outputs": [
    {
     "name": "stdout",
     "output_type": "stream",
     "text": [
      "torch.Size([100, 1, 256])\n",
      "0.003185480527895136\n"
     ]
    }
   ],
   "source": [
    "n_torch = n_torch.unsqueeze(1)\n",
    "latent_mu, latent_logvar = model.Encoder(n_torch)\n",
    "n_recon = model.Decoder(latent_mu)\n",
    "dx=1/256\n",
    "print(n_recon.shape)\n",
    "dn=torch.sum(torch.abs(n_torch.squeeze(1)-n_recon.squeeze(1)),dim=-1)*dx\n",
    "dn=dn.mean()\n",
    "print(dn.item())"
   ]
  },
  {
   "attachments": {},
   "cell_type": "markdown",
   "metadata": {},
   "source": [
    "Visualization"
   ]
  },
  {
   "cell_type": "code",
   "execution_count": 5,
   "metadata": {},
   "outputs": [
    {
     "data": {
      "image/png": "[encoded data removed]",
      "text/plain": [
       "<Figure size 432x288 with 1 Axes>"
      ]
     },
     "metadata": {
      "needs_background": "light"
     },
     "output_type": "display_data"
    },
    {
     "data": {
      "image/png": "[encoded data removed]",
      "text/plain": [
       "<Figure size 432x288 with 1 Axes>"
      ]
     },
     "metadata": {
      "needs_background": "light"
     },
     "output_type": "display_data"
    },
    {
     "data": {
      "image/png": "[encoded data removed]",
      "text/plain": [
       "<Figure size 432x288 with 1 Axes>"
      ]
     },
     "metadata": {
      "needs_background": "light"
     },
     "output_type": "display_data"
    }
   ],
   "source": [
    "n_recon_img=n_recon.squeeze(1).detach().cpu().numpy()\n",
    "n_img=n_torch.squeeze(1).detach().cpu().numpy()\n",
    "\n",
    "for i in range(3):\n",
    "    plt.plot(n_recon_img[i])\n",
    "    plt.plot(n_img[i])\n",
    "    plt.show()"
   ]
  },
  {
   "attachments": {},
   "cell_type": "markdown",
   "metadata": {},
   "source": [
    "Prediction Test (MODEL B)"
   ]
  },
  {
   "cell_type": "code",
   "execution_count": null,
   "metadata": {},
   "outputs": [],
   "source": [
    "print(n_torch.shape)\n",
    "latent_mu, latent_logvar = model.Encoder(n_torch)\n",
    "f_ml=model.DFTModel(latent_mu).view(-1)\n",
    "\n",
    "df=torch.abs(f_torch-f_ml)\n",
    "\n",
    "print(df.mean()*627,df.std()*627)\n"
   ]
  },
  {
   "attachments": {},
   "cell_type": "markdown",
   "metadata": {},
   "source": [
    "Prediction Test (MODEL A)"
   ]
  },
  {
   "cell_type": "code",
   "execution_count": 7,
   "metadata": {},
   "outputs": [
    {
     "name": "stdout",
     "output_type": "stream",
     "text": [
      "tensor(0.0575, dtype=torch.float64) tensor(0.0508, dtype=torch.float64)\n"
     ]
    }
   ],
   "source": [
    "\n",
    "f_ml=model.DFTModel(n_torch).view(-1)\n",
    "\n",
    "df=torch.abs(f_torch-f_ml)\n",
    "\n",
    "print(df.mean()*627,df.std()*627)"
   ]
  },
  {
   "attachments": {},
   "cell_type": "markdown",
   "metadata": {},
   "source": [
    "### 3D Speckle Dataset"
   ]
  },
  {
   "attachments": {},
   "cell_type": "markdown",
   "metadata": {},
   "source": [
    "#### Reconstruction Property"
   ]
  },
  {
   "attachments": {},
   "cell_type": "markdown",
   "metadata": {},
   "source": [
    "Imports"
   ]
  },
  {
   "cell_type": "code",
   "execution_count": 10,
   "metadata": {},
   "outputs": [],
   "source": [
    "import torch\n",
    "import numpy as np\n",
    "import matplotlib.pyplot as plt"
   ]
  },
  {
   "attachments": {},
   "cell_type": "markdown",
   "metadata": {},
   "source": [
    "Data"
   ]
  },
  {
   "cell_type": "code",
   "execution_count": 11,
   "metadata": {},
   "outputs": [],
   "source": [
    "data=np.load('data/dataset_speckle_3d/test.npz')\n",
    "n=data['density']\n",
    "f=data['F']\n",
    "e=data['energy']\n",
    "n_torch=torch.from_numpy(n)[-100:]\n",
    "f_torch=torch.from_numpy(f)[-100:]\n",
    "e_torch=torch.from_numpy(e)[-100:]\n",
    "model=torch.load('model_dft_pytorch/3d_speckle/DFTVAEnorm3D_hidden_channels_vae_[60, 60, 60]_hidden_channels_dft_[60, 60, 60, 60]_kernel_size_[3, 3, 3]_pooling_size_[2, 2, 2]_latent_dimension_16_l1_0.0_l2_1e-07_36k',map_location='cpu')\n",
    "#model=torch.load('model_dft_pytorch/meyer_case/meyer_model_60_hc_13_ks_2_ps_[40, 40, 40, 40, 40]_hidden_neurons_16_ls_0.0_alpha_0.01_vb',map_location='cpu')\n",
    "model.eval()\n",
    "model=model.double()\n"
   ]
  },
  {
   "attachments": {},
   "cell_type": "markdown",
   "metadata": {},
   "source": [
    "Reconstruction Test"
   ]
  },
  {
   "cell_type": "code",
   "execution_count": 12,
   "metadata": {},
   "outputs": [
    {
     "name": "stdout",
     "output_type": "stream",
     "text": [
      "torch.Size([100, 1, 18, 18, 18])\n",
      "0.0252278494914735\n"
     ]
    }
   ],
   "source": [
    "n_torch = n_torch.unsqueeze(1)\n",
    "latent_mu, latent_logvar = model.Encoder(n_torch)\n",
    "n_recon = model.Decoder(latent_mu)\n",
    "dx=2/18\n",
    "print(n_recon.shape)\n",
    "dn=torch.sum(torch.abs(n_torch.squeeze(1)-n_recon.squeeze(1)),dim=(-1,-2,-3))*dx**3\n",
    "dn=dn.mean()\n",
    "print(dn.item())"
   ]
  },
  {
   "attachments": {},
   "cell_type": "markdown",
   "metadata": {},
   "source": [
    "Visualization"
   ]
  },
  {
   "cell_type": "code",
   "execution_count": null,
   "metadata": {},
   "outputs": [],
   "source": [
    "n_recon_img=n_recon.squeeze(1).detach().cpu().numpy()\n",
    "n_img=n_torch.squeeze(1).detach().cpu().numpy()\n",
    "\n",
    "# for i in range(2):\n",
    "#     plt.plot(n_recon_img[i,0,0,:])\n",
    "#     plt.plot(n_img[i,0,0,:])\n",
    "#     plt.show()\n",
    "    \n",
    "# for i in range(2):\n",
    "#     plt.plot(n_recon_img[i,0,:,0])\n",
    "#     plt.plot(n_img[i,0,:,0])\n",
    "#     plt.show()\n",
    "\n",
    "\n",
    "import matplotlib.pyplot as plt\n",
    "from matplotlib import cm\n",
    "from matplotlib.ticker import LinearLocator\n",
    "import numpy as np\n",
    "\n",
    "\n",
    "# Make data.\n",
    "x = np.linspace(0, 2, 18)\n",
    "y = np.linspace(0, 2, 18)\n",
    "x, y = np.meshgrid(x, y)\n",
    "\n",
    "# Plot the surface.\n",
    "for i in range(18):\n",
    "    #fig, ax = plt.subplots(subplot_kw={\"projection\": \"3d\"})\n",
    "    fig=plt.figure()\n",
    "    # ax.plot_surface(x, y, n_recon_img[0,:,:,i], color='blue',alpha=0.5,\n",
    "    #                    linewidth=0, antialiased=False)\n",
    "    # ax.plot_surface(x, y, np.abs(n_img[0,:,:,i]-n_recon_img[0,:,:,i]),\n",
    "    #                    linewidth=0, antialiased=False,alpha=0.2,color='red')\n",
    "    \n",
    "    plt.imshow(np.abs(n_img[0,:,:,i]-n_recon_img[0,:,:,i]))\n",
    "    plt.colorbar()\n",
    "    \n",
    "    plt.show()"
   ]
  },
  {
   "attachments": {},
   "cell_type": "markdown",
   "metadata": {},
   "source": [
    "Prediction Test (MODEL B)"
   ]
  },
  {
   "cell_type": "code",
   "execution_count": null,
   "metadata": {},
   "outputs": [],
   "source": [
    "print(n_torch.shape)\n",
    "latent_mu, latent_logvar = model.Encoder(n_torch)\n",
    "f_ml=model.DFTModel(latent_mu).view(-1)\n",
    "\n",
    "df=torch.abs(f_torch-f_ml)\n",
    "\n",
    "print(df.mean()*627,df.std()*627)\n"
   ]
  },
  {
   "attachments": {},
   "cell_type": "markdown",
   "metadata": {},
   "source": [
    "Prediction Test (MODEL A)"
   ]
  },
  {
   "cell_type": "code",
   "execution_count": 5,
   "metadata": {},
   "outputs": [
    {
     "name": "stdout",
     "output_type": "stream",
     "text": [
      "tensor(0.5612, dtype=torch.float64, grad_fn=<MulBackward0>) tensor(0.4290, dtype=torch.float64, grad_fn=<MulBackward0>)\n"
     ]
    }
   ],
   "source": [
    "\n",
    "f_ml=model.DFTModel(n_torch).view(-1)\n",
    "\n",
    "df=torch.abs(f_torch-f_ml)\n",
    "\n",
    "print(df.mean()*627,df.std()*627)"
   ]
  },
  {
   "attachments": {},
   "cell_type": "markdown",
   "metadata": {},
   "source": [
    "## Test the Gradient Descent"
   ]
  },
  {
   "attachments": {},
   "cell_type": "markdown",
   "metadata": {},
   "source": [
    "### Meyer Dataset"
   ]
  },
  {
   "attachments": {},
   "cell_type": "markdown",
   "metadata": {},
   "source": [
    "Show data"
   ]
  },
  {
   "cell_type": "code",
   "execution_count": 20,
   "metadata": {},
   "outputs": [
    {
     "data": {
      "image/png": "[encoded data removed]",
      "text/plain": [
       "<Figure size 432x288 with 1 Axes>"
      ]
     },
     "metadata": {
      "needs_background": "light"
     },
     "output_type": "display_data"
    }
   ],
   "source": [
    "data=np.load('data/dataset_meyer/dataset_meyer_test_256_100.npz')\n",
    "\n",
    "n=data['density']\n",
    "v=data['potential']\n",
    "\n",
    "plt.plot(n[0])\n",
    "plt.plot(v[0])\n",
    "plt.show()\n"
   ]
  },
  {
   "attachments": {},
   "cell_type": "markdown",
   "metadata": {},
   "source": [
    "#### Different $\\beta=0.1,0.001,10^{-5}$ "
   ]
  },
  {
   "attachments": {},
   "cell_type": "markdown",
   "metadata": {},
   "source": [
    "Imports"
   ]
  },
  {
   "cell_type": "code",
   "execution_count": 21,
   "metadata": {},
   "outputs": [],
   "source": [
    "import numpy as np\n",
    "import matplotlib.pyplot as plt \n"
   ]
  },
  {
   "attachments": {},
   "cell_type": "markdown",
   "metadata": {},
   "source": [
    "Load Data"
   ]
  },
  {
   "cell_type": "code",
   "execution_count": 42,
   "metadata": {},
   "outputs": [],
   "source": [
    "vbs=['0.1','0.001','1e-05']\n",
    "min_energy={}\n",
    "gs_energy={}\n",
    "min_density={}\n",
    "gs_density={}\n",
    "\n",
    "for vb in vbs:\n",
    "    data_density=np.load(f'data/gradient_descent/meyer_case/DFTVAEnorm_hidden_channels_vae_[60, 60, 60, 60, 60]_hidden_channels_dft_[60, 60, 60, 60, 60]_kernel_size_13_pooling_size_2_latent_dimension_8_l1_0.0_l2_{vb}_number_istances_100_n_ensamble_1_different_initial_epochs_14999_lr_1_density.npz')\n",
    "    data_energy=np.load(f'data/gradient_descent/meyer_case/DFTVAEnorm_hidden_channels_vae_[60, 60, 60, 60, 60]_hidden_channels_dft_[60, 60, 60, 60, 60]_kernel_size_13_pooling_size_2_latent_dimension_8_l1_0.0_l2_{vb}_number_istances_100_n_ensamble_1_different_initial_epochs_14999_lr_1_energy.npz')\n",
    "    \n",
    "    min_energy[vb]=data_energy['min_energy']\n",
    "    gs_energy[vb]=data_energy['gs_energy']\n",
    "    \n",
    "    gs_density[vb]=data_density['gs_density']\n",
    "    min_density[vb]=data_density['min_density']\n",
    "    "
   ]
  },
  {
   "attachments": {},
   "cell_type": "markdown",
   "metadata": {},
   "source": [
    "Visualization"
   ]
  },
  {
   "cell_type": "code",
   "execution_count": 49,
   "metadata": {},
   "outputs": [
    {
     "name": "stdout",
     "output_type": "stream",
     "text": [
      "vb=0.1, de=-1.55461256452083 \n",
      "\n",
      "vb=0.1 max de =3.2915938478073965 \n",
      "\n",
      "vb=0.001, de=0.2755169394474033 \n",
      "\n",
      "vb=0.001 max de =8.044668076216928 \n",
      "\n",
      "vb=1e-05, de=12.985530006689267 \n",
      "\n",
      "vb=1e-05 max de =83.51654948028929 \n",
      "\n"
     ]
    },
    {
     "data": {
      "image/png": "[encoded data removed]",
      "text/plain": [
       "<Figure size 432x288 with 1 Axes>"
      ]
     },
     "metadata": {
      "needs_background": "light"
     },
     "output_type": "display_data"
    },
    {
     "data": {
      "image/png": "[encoded data removed]",
      "text/plain": [
       "<Figure size 432x288 with 1 Axes>"
      ]
     },
     "metadata": {
      "needs_background": "light"
     },
     "output_type": "display_data"
    }
   ],
   "source": [
    "de={}\n",
    "xmax=2.5\n",
    "xmin=-2.5\n",
    "\n",
    "for vb in vbs:\n",
    "    de[vb]=(gs_energy[vb]-min_energy[vb])\n",
    "    print(f'vb={vb}, de={np.average(de[vb])*627} \\n')\n",
    "    print(f'vb={vb} max de ={np.max(de[vb])*627} \\n')\n",
    "    plt.hist(de[vb]*627,bins=500,label=f'vb={vb}',range=(-100,100),alpha=0.5)\n",
    "plt.xlabel(r'$\\Delta e$',fontsize=20)\n",
    "plt.ylabel(r'No. Instances',fontsize=20)\n",
    "plt.xlim((xmin,xmax))\n",
    "plt.legend()\n",
    "plt.show()\n",
    "\n",
    "data = [de['0.1']*627,de['0.001']*627,de['1e-05']*627]\n",
    "fig, ax = plt.subplots()\n",
    "ax.axhline(y=0.,color='red',linewidth=3,linestyle='--')\n",
    "ax.set_title('Multiple Samples with Different sizes')\n",
    "ax.boxplot(data)\n",
    "ax.set_xticks([1,2,3],[r'$10^{-1}$',r'$10^{-3}$',r'$10^{-5}$'])\n",
    "plt.show()\n",
    "    "
   ]
  },
  {
   "cell_type": "code",
   "execution_count": 41,
   "metadata": {},
   "outputs": [
    {
     "ename": "KeyError",
     "evalue": "'0.1'",
     "output_type": "error",
     "traceback": [
      "\u001b[0;31m---------------------------------------------------------------------------\u001b[0m",
      "\u001b[0;31mKeyError\u001b[0m                                  Traceback (most recent call last)",
      "\u001b[0;32m/tmp/ipykernel_2411298/3780901224.py\u001b[0m in \u001b[0;36m<module>\u001b[0;34m\u001b[0m\n\u001b[1;32m      2\u001b[0m \u001b[0;34m\u001b[0m\u001b[0m\n\u001b[1;32m      3\u001b[0m \u001b[0;32mfor\u001b[0m \u001b[0mvb\u001b[0m \u001b[0;32min\u001b[0m \u001b[0mvbs\u001b[0m\u001b[0;34m:\u001b[0m\u001b[0;34m\u001b[0m\u001b[0;34m\u001b[0m\u001b[0m\n\u001b[0;32m----> 4\u001b[0;31m     \u001b[0mdn\u001b[0m\u001b[0;34m[\u001b[0m\u001b[0mvb\u001b[0m\u001b[0;34m]\u001b[0m\u001b[0;34m=\u001b[0m\u001b[0mnp\u001b[0m\u001b[0;34m.\u001b[0m\u001b[0msum\u001b[0m\u001b[0;34m(\u001b[0m\u001b[0mnp\u001b[0m\u001b[0;34m.\u001b[0m\u001b[0mabs\u001b[0m\u001b[0;34m(\u001b[0m\u001b[0mgs_density\u001b[0m\u001b[0;34m[\u001b[0m\u001b[0mvb\u001b[0m\u001b[0;34m]\u001b[0m\u001b[0;34m-\u001b[0m\u001b[0mmin_density\u001b[0m\u001b[0;34m[\u001b[0m\u001b[0mvb\u001b[0m\u001b[0;34m]\u001b[0m\u001b[0;34m)\u001b[0m\u001b[0;34m,\u001b[0m\u001b[0maxis\u001b[0m\u001b[0;34m=\u001b[0m\u001b[0;34m-\u001b[0m\u001b[0;36m1\u001b[0m\u001b[0;34m)\u001b[0m\u001b[0;34m*\u001b[0m\u001b[0;34m(\u001b[0m\u001b[0;36m1\u001b[0m\u001b[0;34m/\u001b[0m\u001b[0;36m256\u001b[0m\u001b[0;34m)\u001b[0m\u001b[0;34m\u001b[0m\u001b[0;34m\u001b[0m\u001b[0m\n\u001b[0m\u001b[1;32m      5\u001b[0m     \u001b[0mprint\u001b[0m\u001b[0;34m(\u001b[0m\u001b[0;34mf'vb={vb}, dn={np.average(dn[vb])} \\n'\u001b[0m\u001b[0;34m)\u001b[0m\u001b[0;34m\u001b[0m\u001b[0;34m\u001b[0m\u001b[0m\n\u001b[1;32m      6\u001b[0m     \u001b[0mprint\u001b[0m\u001b[0;34m(\u001b[0m\u001b[0;34mf'vb={vb} max dn ={np.max(dn[vb])} \\n'\u001b[0m\u001b[0;34m)\u001b[0m\u001b[0;34m\u001b[0m\u001b[0;34m\u001b[0m\u001b[0m\n",
      "\u001b[0;31mKeyError\u001b[0m: '0.1'"
     ]
    }
   ],
   "source": [
    "dn={}\n",
    "\n",
    "for vb in vbs:\n",
    "    dn[vb]=np.sum(np.abs(gs_density[vb]-min_density[vb]),axis=-1)*(1/256)\n",
    "    print(f'vb={vb}, dn={np.average(dn[vb])} \\n')\n",
    "    print(f'vb={vb} max dn ={np.max(dn[vb])} \\n')\n",
    "    plt.hist(dn[vb],bins=50,label=f'vb={vb}',range=(0,0.09),alpha=0.5)\n",
    "plt.xlabel(r'$\\Delta n$',fontsize=20)\n",
    "plt.ylabel(r'No. Instances',fontsize=20)\n",
    "plt.legend()\n",
    "plt.show()\n",
    "\n",
    "\n"
   ]
  },
  {
   "attachments": {},
   "cell_type": "markdown",
   "metadata": {},
   "source": [
    "#### Different Latent Dimension $l_d=4,8,16$"
   ]
  },
  {
   "attachments": {},
   "cell_type": "markdown",
   "metadata": {},
   "source": [
    "Imports"
   ]
  },
  {
   "cell_type": "code",
   "execution_count": 35,
   "metadata": {},
   "outputs": [],
   "source": [
    "import numpy as np\n",
    "import matplotlib.pyplot as plt "
   ]
  },
  {
   "attachments": {},
   "cell_type": "markdown",
   "metadata": {},
   "source": [
    "Load Data"
   ]
  },
  {
   "cell_type": "code",
   "execution_count": 36,
   "metadata": {},
   "outputs": [],
   "source": [
    "lds=[4,8,16]\n",
    "min_energy={}\n",
    "gs_energy={}\n",
    "min_density={}\n",
    "gs_density={}\n",
    "\n",
    "for ld in lds:\n",
    "    data_density=np.load(f'data/gradient_descent/meyer_case/DFTVAEnorm_hidden_channels_vae_[60, 60, 60, 60, 60]_hidden_channels_dft_[60, 60, 60, 60, 60]_kernel_size_13_pooling_size_2_latent_dimension_{ld}_l1_0.0_l2_0.001_number_istances_100_n_ensamble_1_different_initial_epochs_14999_lr_1_density.npz')\n",
    "    data_energy=np.load(f'data/gradient_descent/meyer_case/DFTVAEnorm_hidden_channels_vae_[60, 60, 60, 60, 60]_hidden_channels_dft_[60, 60, 60, 60, 60]_kernel_size_13_pooling_size_2_latent_dimension_{ld}_l1_0.0_l2_0.001_number_istances_100_n_ensamble_1_different_initial_epochs_14999_lr_1_energy.npz')\n",
    "    \n",
    "    min_energy[ld]=data_energy['min_energy']\n",
    "    gs_energy[ld]=data_energy['gs_energy']\n",
    "    \n",
    "    gs_density[ld]=data_density['gs_density']\n",
    "    min_density[ld]=data_density['min_density']\n",
    "    "
   ]
  },
  {
   "attachments": {},
   "cell_type": "markdown",
   "metadata": {},
   "source": [
    "Visualization"
   ]
  },
  {
   "cell_type": "code",
   "execution_count": 40,
   "metadata": {},
   "outputs": [
    {
     "name": "stdout",
     "output_type": "stream",
     "text": [
      "ld=4, de=0.6322110702599638 \n",
      "\n",
      "ld=4 max de =10.039360637350615 \n",
      "\n",
      "ld=8, de=0.6474458333887709 \n",
      "\n",
      "ld=8 max de =8.044668076216928 \n",
      "\n",
      "ld=16, de=0.6730503207514894 \n",
      "\n",
      "ld=16 max de =10.476058074478066 \n",
      "\n"
     ]
    },
    {
     "data": {
      "image/png": "[encoded data removed]",
      "text/plain": [
       "<Figure size 432x288 with 1 Axes>"
      ]
     },
     "metadata": {
      "needs_background": "light"
     },
     "output_type": "display_data"
    },
    {
     "data": {
      "image/png": "[encoded data removed]",
      "text/plain": [
       "<Figure size 432x288 with 1 Axes>"
      ]
     },
     "metadata": {
      "needs_background": "light"
     },
     "output_type": "display_data"
    }
   ],
   "source": [
    "de={}\n",
    "de_abs={}\n",
    "for ld in lds:\n",
    "    de_abs[ld]=np.abs(gs_energy[ld]-min_energy[ld])\n",
    "    de[ld]=(gs_energy[ld]-min_energy[ld])\n",
    "    print(f'ld={ld}, de={np.average(de_abs[ld])*627} \\n')\n",
    "    print(f'ld={ld} max de ={np.max(de_abs[ld])*627} \\n')\n",
    "    plt.hist(de[ld]*627,bins=40,label=f'vb={ld}',range=(-4,4),alpha=0.5)\n",
    "plt.xlabel(r'$\\Delta e$',fontsize=20)\n",
    "plt.ylabel(r'No. Instances',fontsize=20)\n",
    "plt.legend()\n",
    "plt.show()\n",
    "\n",
    "\n",
    "\n",
    "data = [de[4]*627,de[8]*627,de[16]*627]\n",
    "fig, ax = plt.subplots()\n",
    "ax.axhline(y=0.,color='red',linewidth=3,linestyle='--')\n",
    "ax.set_title('Multiple Samples with Different sizes')\n",
    "ax.boxplot(data)\n",
    "\n",
    "plt.show()"
   ]
  },
  {
   "attachments": {},
   "cell_type": "markdown",
   "metadata": {},
   "source": [
    "### Speckle Dataset"
   ]
  },
  {
   "attachments": {},
   "cell_type": "markdown",
   "metadata": {},
   "source": [
    "#### Different $\\beta=10^{-3},10^{-5},10^{-7}$ "
   ]
  },
  {
   "attachments": {},
   "cell_type": "markdown",
   "metadata": {},
   "source": [
    "Imports"
   ]
  },
  {
   "cell_type": "code",
   "execution_count": null,
   "metadata": {},
   "outputs": [],
   "source": [
    "import numpy as np\n",
    "import matplotlib.pyplot as plt \n"
   ]
  },
  {
   "attachments": {},
   "cell_type": "markdown",
   "metadata": {},
   "source": [
    "Load Data"
   ]
  },
  {
   "cell_type": "code",
   "execution_count": 50,
   "metadata": {},
   "outputs": [],
   "source": [
    "vbs=['0.001','1e-05','1e-07']\n",
    "min_energy={}\n",
    "gs_energy={}\n",
    "min_density={}\n",
    "gs_density={}\n",
    "\n",
    "for vb in vbs:\n",
    "    data_density=np.load(f'data/gradient_descent/speckle_case/DFTVAEnorm_hidden_channels_vae_[60, 60, 60, 60, 60]_hidden_channels_dft_[60, 60, 60, 60, 60]_kernel_size_13_pooling_size_2_latent_dimension_16_l1_0.0_l2_{vb}_number_istances_100_n_ensamble_1_different_initial_epochs_49999_lr_1_density.npz')\n",
    "    data_energy=np.load(f'data/gradient_descent/speckle_case/DFTVAEnorm_hidden_channels_vae_[60, 60, 60, 60, 60]_hidden_channels_dft_[60, 60, 60, 60, 60]_kernel_size_13_pooling_size_2_latent_dimension_16_l1_0.0_l2_{vb}_number_istances_100_n_ensamble_1_different_initial_epochs_49999_lr_1_energy.npz')\n",
    "    \n",
    "    min_energy[vb]=data_energy['min_energy']\n",
    "    gs_energy[vb]=data_energy['gs_energy']\n",
    "    \n",
    "    gs_density[vb]=data_density['gs_density']\n",
    "    min_density[vb]=data_density['min_density']\n",
    "    "
   ]
  },
  {
   "attachments": {},
   "cell_type": "markdown",
   "metadata": {},
   "source": [
    "Visualization"
   ]
  },
  {
   "cell_type": "code",
   "execution_count": 51,
   "metadata": {},
   "outputs": [
    {
     "name": "stdout",
     "output_type": "stream",
     "text": [
      "vb=0.001, de=2.393467322115981 \n",
      "\n",
      "vb=0.001 max de =7.159300086097441 \n",
      "\n",
      "vb=1e-05, de=0.9992329214893126 \n",
      "\n",
      "vb=1e-05 max de =2.8709273767103745 \n",
      "\n",
      "vb=1e-07, de=0.5909198760607741 \n",
      "\n",
      "vb=1e-07 max de =2.122321910541111 \n",
      "\n"
     ]
    },
    {
     "data": {
      "image/png": "[encoded data removed]",
      "text/plain": [
       "<Figure size 432x288 with 1 Axes>"
      ]
     },
     "metadata": {
      "needs_background": "light"
     },
     "output_type": "display_data"
    }
   ],
   "source": [
    "de={}\n",
    "\n",
    "for vb in vbs:\n",
    "    de[vb]=np.abs(gs_energy[vb]-min_energy[vb])\n",
    "    print(f'vb={vb}, de={np.average(de[vb])*627*0.5} \\n')\n",
    "    print(f'vb={vb} max de ={np.max(de[vb])*627*0.5} \\n')\n",
    "    plt.hist(de[vb]*627*0.5,bins=50,label=f'vb={vb}',range=(0,100),alpha=0.5)\n",
    "plt.xlabel(r'$\\Delta e$',fontsize=20)\n",
    "plt.ylabel(r'No. Instances',fontsize=20)\n",
    "plt.legend()\n",
    "plt.show()\n",
    "    "
   ]
  },
  {
   "cell_type": "code",
   "execution_count": 52,
   "metadata": {},
   "outputs": [
    {
     "name": "stdout",
     "output_type": "stream",
     "text": [
      "vb=0.001, dn=0.006513995046958166 \n",
      "\n",
      "vb=0.001 max dn =0.03344963399995794 \n",
      "\n",
      "vb=1e-05, dn=0.0027029112018050394 \n",
      "\n",
      "vb=1e-05 max dn =0.009560532909839312 \n",
      "\n",
      "vb=1e-07, dn=0.0015873363347214 \n",
      "\n",
      "vb=1e-07 max dn =0.006184702691047614 \n",
      "\n"
     ]
    },
    {
     "data": {
      "image/png": "[encoded data removed]",
      "text/plain": [
       "<Figure size 432x288 with 1 Axes>"
      ]
     },
     "metadata": {
      "needs_background": "light"
     },
     "output_type": "display_data"
    }
   ],
   "source": [
    "dn={}\n",
    "\n",
    "for vb in vbs:\n",
    "    dn[vb]=np.sum(np.abs(gs_density[vb]-min_density[vb]),axis=-1)*(1/256)\n",
    "    print(f'vb={vb}, dn={np.average(dn[vb])} \\n')\n",
    "    print(f'vb={vb} max dn ={np.max(dn[vb])} \\n')\n",
    "    plt.hist(dn[vb],bins=50,label=f'vb={vb}',range=(0,0.09),alpha=0.5)\n",
    "plt.xlabel(r'$\\Delta n$',fontsize=20)\n",
    "plt.ylabel(r'No. Instances',fontsize=20)\n",
    "plt.legend()\n",
    "plt.show()"
   ]
  },
  {
   "attachments": {},
   "cell_type": "markdown",
   "metadata": {},
   "source": [
    "## Operation with Datasets "
   ]
  },
  {
   "attachments": {},
   "cell_type": "markdown",
   "metadata": {},
   "source": [
    "Imports"
   ]
  },
  {
   "cell_type": "code",
   "execution_count": 2,
   "metadata": {},
   "outputs": [],
   "source": [
    "import numpy as np\n"
   ]
  },
  {
   "attachments": {},
   "cell_type": "markdown",
   "metadata": {},
   "source": [
    "Data"
   ]
  },
  {
   "cell_type": "code",
   "execution_count": 4,
   "metadata": {},
   "outputs": [
    {
     "name": "stdout",
     "output_type": "stream",
     "text": [
      "(72000,)\n"
     ]
    }
   ],
   "source": [
    "data=np.load('data/dataset_speckle_3d/Speckle3rdbatch.npz')\n",
    "data_2=np.load('data/dataset_speckle_3d/Speckle2ndbatch.npz')\n",
    "\n",
    "\n",
    "density=data['dens']\n",
    "density_2=data_2['dens']\n",
    "\n",
    "potential=data['speckle']\n",
    "potential_2=data_2['speckle']\n",
    "\n",
    "energy=data['ene']\n",
    "energy_2=data_2['ene']\n",
    "\n",
    "e_ext=np.sum(potential*density,axis=(-1,-2,-3))*(2/18)**3\n",
    "e_ext_2=np.sum(potential_2*density_2,axis=(-1,-2,-3))*(2/18)**3\n",
    "\n",
    "\n",
    "density=np.append(density,density_2,axis=0)\n",
    "potential=np.append(potential,potential_2,axis=0)\n",
    "e_ext=np.append(e_ext,e_ext_2,axis=0)\n",
    "energy=np.append(energy,energy_2,axis=0)\n",
    "\n",
    "print(energy.shape)\n",
    "\n"
   ]
  },
  {
   "cell_type": "code",
   "execution_count": 6,
   "metadata": {},
   "outputs": [
    {
     "name": "stdout",
     "output_type": "stream",
     "text": [
      "(36000,)\n"
     ]
    }
   ],
   "source": [
    "data=np.load('data/dataset_speckle_3d/Gaussian1stbatch.npz')\n",
    "\n",
    "\n",
    "\n",
    "density=data['dens']\n",
    "\n",
    "\n",
    "potential=data['speckle']\n",
    "\n",
    "energy=data['ene']\n",
    "\n",
    "e_ext=np.sum(potential*density,axis=(-1,-2,-3))*(2/18)**3\n",
    "\n",
    "\n",
    "\n",
    "print(energy.shape)"
   ]
  },
  {
   "cell_type": "code",
   "execution_count": 5,
   "metadata": {},
   "outputs": [],
   "source": [
    "f=energy-e_ext\n",
    "\n",
    "data=np.savez('data/dataset_gaussian_3d/train',F=f,energy=energy,density=density,potential=potential)"
   ]
  },
  {
   "attachments": {},
   "cell_type": "markdown",
   "metadata": {},
   "source": [
    "## Analysis of the Dataset"
   ]
  },
  {
   "attachments": {},
   "cell_type": "markdown",
   "metadata": {},
   "source": [
    "#### 3D Speckle"
   ]
  },
  {
   "attachments": {},
   "cell_type": "markdown",
   "metadata": {},
   "source": [
    "Imports"
   ]
  },
  {
   "cell_type": "code",
   "execution_count": 53,
   "metadata": {},
   "outputs": [],
   "source": [
    "import numpy as np\n",
    "import matplotlib.pyplot as plt"
   ]
  },
  {
   "attachments": {},
   "cell_type": "markdown",
   "metadata": {},
   "source": [
    "Data"
   ]
  },
  {
   "cell_type": "code",
   "execution_count": 54,
   "metadata": {},
   "outputs": [],
   "source": [
    "data=np.load('data/dataset_speckle_3d/test.npz')\n",
    "\n",
    "density=data['density']\n",
    "f=data['F']\n",
    "energy=data['energy']\n",
    "potential=data['potential']"
   ]
  },
  {
   "attachments": {},
   "cell_type": "markdown",
   "metadata": {},
   "source": [
    "Visualization"
   ]
  },
  {
   "attachments": {},
   "cell_type": "markdown",
   "metadata": {},
   "source": [
    "Histogram of the energy values"
   ]
  },
  {
   "cell_type": "code",
   "execution_count": 55,
   "metadata": {},
   "outputs": [
    {
     "data": {
      "image/png": "[encoded data removed]",
      "text/plain": [
       "<Figure size 432x288 with 1 Axes>"
      ]
     },
     "metadata": {
      "needs_background": "light"
     },
     "output_type": "display_data"
    },
    {
     "data": {
      "image/png": "[encoded data removed]",
      "text/plain": [
       "<Figure size 432x288 with 1 Axes>"
      ]
     },
     "metadata": {
      "needs_background": "light"
     },
     "output_type": "display_data"
    }
   ],
   "source": [
    "plt.hist(energy,bins=200,)\n",
    "plt.xlabel('energy [Hartree]',fontsize=20)\n",
    "plt.show()\n",
    "\n",
    "plt.hist(energy*627,bins=200,)\n",
    "plt.xlabel('energy [Kcal/mol]',fontsize=20)\n",
    "plt.show()"
   ]
  },
  {
   "attachments": {},
   "cell_type": "markdown",
   "metadata": {},
   "source": [
    "Histogram of the universal term"
   ]
  },
  {
   "cell_type": "code",
   "execution_count": 13,
   "metadata": {},
   "outputs": [
    {
     "data": {
      "image/png": "[encoded data removed]",
      "text/plain": [
       "<Figure size 432x288 with 1 Axes>"
      ]
     },
     "metadata": {
      "needs_background": "light"
     },
     "output_type": "display_data"
    },
    {
     "data": {
      "image/png": "[encoded data removed]",
      "text/plain": [
       "<Figure size 432x288 with 1 Axes>"
      ]
     },
     "metadata": {
      "needs_background": "light"
     },
     "output_type": "display_data"
    }
   ],
   "source": [
    "plt.hist(f,bins=200,)\n",
    "plt.xlabel('F [Hartree]',fontsize=20)\n",
    "plt.show()\n",
    "\n",
    "plt.hist(f*627,bins=200,)\n",
    "plt.xlabel('F [Kcal/mol]',fontsize=20)\n",
    "plt.show()"
   ]
  },
  {
   "attachments": {},
   "cell_type": "markdown",
   "metadata": {},
   "source": [
    "Profiles"
   ]
  },
  {
   "cell_type": "code",
   "execution_count": null,
   "metadata": {},
   "outputs": [],
   "source": []
  }
 ],
 "metadata": {
  "kernelspec": {
   "display_name": "dft_env",
   "language": "python",
   "name": "python3"
  },
  "language_info": {
   "codemirror_mode": {
    "name": "ipython",
    "version": 3
   },
   "file_extension": ".py",
   "mimetype": "text/x-python",
   "name": "python",
   "nbconvert_exporter": "python",
   "pygments_lexer": "ipython3",
   "version": "3.9.7"
  },
  "orig_nbformat": 4
 },
 "nbformat": 4,
 "nbformat_minor": 2
}
